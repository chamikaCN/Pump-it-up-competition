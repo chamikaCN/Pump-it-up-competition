{
  "nbformat": 4,
  "nbformat_minor": 2,
  "metadata": {
    "colab": {
      "name": "PumpItUp_Preprocessing.ipynb",
      "provenance": []
    },
    "kernelspec": {
      "name": "python3",
      "display_name": "Python 3"
    },
    "language_info": {
      "name": "python"
    }
  },
  "cells": [
    {
      "cell_type": "markdown",
      "source": [
        "# Feature Description"
      ],
      "metadata": {
        "id": "r3_9S13T1860"
      }
    },
    {
      "cell_type": "markdown",
      "source": [
        "#### Features - 1\n",
        "- *amount_tsh* - Total static head (amount water available to waterpoint)\n",
        "- *date_recorded* - The date the row was entered\n",
        "- ***funder* - Who funded the well**\n",
        "- ***gps_height* - Altitude of the well**\n",
        "- ***installer* - Organization that installed the well**\n",
        "- ***longitude* - GPS coordinate**\n",
        "- ***latitude* - GPS coordinate**\n",
        "- *wpt_name* - Name of the waterpoint if there is one\n",
        "- *num_private* -\n",
        "- ***basin* - Geographic water basin**\n",
        "___\n",
        "#### Geographic Location\n",
        "- *subvillage* - Geographic location\n",
        "- *region* - Geographic location\n",
        "- *region_code* - Geographic location (coded)\n",
        "- *district_code* - Geographic location (coded)\n",
        "- *lga* - Geographic location\n",
        "- *ward* - Geographic location\n",
        "___\n",
        "#### Features - 2\n",
        "- ***population* - Population around the well**\n",
        "- *public_meeting* - True/False\n",
        "- ***recorded_by* - Group entering this row of data**\n",
        "- ***scheme_management* - Who operates the waterpoint**\n",
        "- *scheme_name* - Who operates the waterpoint\n",
        "- ***permit* - If the waterpoint is permitted**\n",
        "- ***construction_year* - Year the waterpoint was constructed**\n",
        "___\n",
        "#### Water Extraction\n",
        "- *extraction_type* - The kind of extraction the waterpoint uses\n",
        "- *extraction_type_group* - The kind of extraction the waterpoint uses\n",
        "- *extraction_type_class* - The kind of extraction the waterpoint uses\n",
        "___\n",
        "#### Features - 3\n",
        "- *management* - How the waterpoint is managed\n",
        "- *management_group* - How the waterpoint is managed\n",
        "- *payment* - What the water costs\n",
        "- *payment_type* - What the water costs\n",
        "- *water_quality* - The quality of the water\n",
        "- *quality_group* - The quality of the water\n",
        "- *quantity* - The quantity of water\n",
        "- *quantity_group* - The quantity of water\n",
        "- *source* - The source of the water\n",
        "- *source_type* - The source of the water\n",
        "- *source_class* - The source of the water\n",
        "- *waterpoint_type* - The kind of waterpoint\n",
        "- *waterpoint_type_group* - The kind of waterpoint"
      ],
      "metadata": {
        "id": "5xMIizoP0_3A"
      }
    },
    {
      "cell_type": "markdown",
      "source": [
        "# Setup"
      ],
      "metadata": {
        "id": "oJMxH8EA2FvU"
      }
    },
    {
      "cell_type": "code",
      "execution_count": 102,
      "source": [
        "import pandas as pd\n",
        "import matplotlib.pyplot as plt\n",
        "import seaborn as sns\n",
        "import numpy as np"
      ],
      "outputs": [],
      "metadata": {
        "id": "gi8ra_7Q0kz_"
      }
    },
    {
      "cell_type": "code",
      "execution_count": 103,
      "source": [
        "PIT_data_df = pd.read_csv('/content/Pump it Up - Training set Values.csv')\n",
        "PIT_test_df = pd.read_csv('/content/Pump it Up - Testing set.csv')\n",
        "PIT_label_df = pd.read_csv('/content/Pump it Up - Training set Labels.csv')\n",
        "PIT_data_df.loc[PIT_data_df.latitude.abs() < 0.0001, 'latitude'] = 0.0\n",
        "PIT_test_df.loc[PIT_test_df.latitude.abs() < 0.0001, 'latitude'] = 0.0\n",
        "merged_PIT_data_df = pd.merge(PIT_data_df, PIT_label_df,how='inner', on='id')"
      ],
      "outputs": [],
      "metadata": {
        "id": "tql9ri6d0_CP"
      }
    },
    {
      "cell_type": "markdown",
      "source": [
        "# Feature Characteristics Identification"
      ],
      "metadata": {
        "id": "LuBy3UIo7I1j"
      }
    },
    {
      "cell_type": "code",
      "execution_count": 104,
      "source": [
        "PIT_feature_info_df = pd.DataFrame(merged_PIT_data_df.columns, columns=['feature'])\n",
        "PIT_feature_info_df = pd.merge(PIT_feature_info_df, pd.DataFrame(merged_PIT_data_df.isna().sum(), columns=['null_count']),how='inner',left_on='feature',right_index=True)\n",
        "PIT_feature_info_df = pd.merge(PIT_feature_info_df, pd.DataFrame(merged_PIT_data_df.dtypes, columns=['data_type']),how='inner',left_on='feature',right_index=True)\n",
        "PIT_feature_info_df = pd.merge(PIT_feature_info_df, pd.DataFrame((merged_PIT_data_df == 0).sum(axis=0), columns=['zero_count']),how='inner',left_on='feature',right_index=True)\n",
        "PIT_feature_info_df = pd.merge(PIT_feature_info_df, pd.DataFrame(merged_PIT_data_df.nunique(), columns=['unique_val_count']),how='inner',left_on='feature',right_index=True)\n",
        "PIT_feature_info_df"
      ],
      "outputs": [
        {
          "output_type": "execute_result",
          "data": {
            "text/plain": [
              "                  feature  null_count data_type  zero_count  unique_val_count\n",
              "0                      id           0     int64           1             59400\n",
              "1              amount_tsh           0   float64       41639                98\n",
              "2           date_recorded           0    object           0               356\n",
              "3                  funder        3635    object           0              1897\n",
              "4              gps_height           0     int64       20438              2428\n",
              "5               installer        3655    object           0              2145\n",
              "6               longitude           0   float64        1812             57516\n",
              "7                latitude           0   float64        1812             57517\n",
              "8                wpt_name           0    object           0             37400\n",
              "9             num_private           0     int64       58643                65\n",
              "10                  basin           0    object           0                 9\n",
              "11             subvillage         371    object           0             19287\n",
              "12                 region           0    object           0                21\n",
              "13            region_code           0     int64           0                27\n",
              "14          district_code           0     int64          23                20\n",
              "15                    lga           0    object           0               125\n",
              "16                   ward           0    object           0              2092\n",
              "17             population           0     int64       21381              1049\n",
              "18         public_meeting        3334    object        5055                 2\n",
              "19            recorded_by           0    object           0                 1\n",
              "20      scheme_management        3877    object           0                12\n",
              "21            scheme_name       28166    object           0              2696\n",
              "22                 permit        3056    object       17492                 2\n",
              "23      construction_year           0     int64       20709                55\n",
              "24        extraction_type           0    object           0                18\n",
              "25  extraction_type_group           0    object           0                13\n",
              "26  extraction_type_class           0    object           0                 7\n",
              "27             management           0    object           0                12\n",
              "28       management_group           0    object           0                 5\n",
              "29                payment           0    object           0                 7\n",
              "30           payment_type           0    object           0                 7\n",
              "31          water_quality           0    object           0                 8\n",
              "32          quality_group           0    object           0                 6\n",
              "33               quantity           0    object           0                 5\n",
              "34         quantity_group           0    object           0                 5\n",
              "35                 source           0    object           0                10\n",
              "36            source_type           0    object           0                 7\n",
              "37           source_class           0    object           0                 3\n",
              "38        waterpoint_type           0    object           0                 7\n",
              "39  waterpoint_type_group           0    object           0                 6\n",
              "40           status_group           0    object           0                 3"
            ],
            "text/html": [
              "<div>\n",
              "<style scoped>\n",
              "    .dataframe tbody tr th:only-of-type {\n",
              "        vertical-align: middle;\n",
              "    }\n",
              "\n",
              "    .dataframe tbody tr th {\n",
              "        vertical-align: top;\n",
              "    }\n",
              "\n",
              "    .dataframe thead th {\n",
              "        text-align: right;\n",
              "    }\n",
              "</style>\n",
              "<table border=\"1\" class=\"dataframe\">\n",
              "  <thead>\n",
              "    <tr style=\"text-align: right;\">\n",
              "      <th></th>\n",
              "      <th>feature</th>\n",
              "      <th>null_count</th>\n",
              "      <th>data_type</th>\n",
              "      <th>zero_count</th>\n",
              "      <th>unique_val_count</th>\n",
              "    </tr>\n",
              "  </thead>\n",
              "  <tbody>\n",
              "    <tr>\n",
              "      <th>0</th>\n",
              "      <td>id</td>\n",
              "      <td>0</td>\n",
              "      <td>int64</td>\n",
              "      <td>1</td>\n",
              "      <td>59400</td>\n",
              "    </tr>\n",
              "    <tr>\n",
              "      <th>1</th>\n",
              "      <td>amount_tsh</td>\n",
              "      <td>0</td>\n",
              "      <td>float64</td>\n",
              "      <td>41639</td>\n",
              "      <td>98</td>\n",
              "    </tr>\n",
              "    <tr>\n",
              "      <th>2</th>\n",
              "      <td>date_recorded</td>\n",
              "      <td>0</td>\n",
              "      <td>object</td>\n",
              "      <td>0</td>\n",
              "      <td>356</td>\n",
              "    </tr>\n",
              "    <tr>\n",
              "      <th>3</th>\n",
              "      <td>funder</td>\n",
              "      <td>3635</td>\n",
              "      <td>object</td>\n",
              "      <td>0</td>\n",
              "      <td>1897</td>\n",
              "    </tr>\n",
              "    <tr>\n",
              "      <th>4</th>\n",
              "      <td>gps_height</td>\n",
              "      <td>0</td>\n",
              "      <td>int64</td>\n",
              "      <td>20438</td>\n",
              "      <td>2428</td>\n",
              "    </tr>\n",
              "    <tr>\n",
              "      <th>5</th>\n",
              "      <td>installer</td>\n",
              "      <td>3655</td>\n",
              "      <td>object</td>\n",
              "      <td>0</td>\n",
              "      <td>2145</td>\n",
              "    </tr>\n",
              "    <tr>\n",
              "      <th>6</th>\n",
              "      <td>longitude</td>\n",
              "      <td>0</td>\n",
              "      <td>float64</td>\n",
              "      <td>1812</td>\n",
              "      <td>57516</td>\n",
              "    </tr>\n",
              "    <tr>\n",
              "      <th>7</th>\n",
              "      <td>latitude</td>\n",
              "      <td>0</td>\n",
              "      <td>float64</td>\n",
              "      <td>1812</td>\n",
              "      <td>57517</td>\n",
              "    </tr>\n",
              "    <tr>\n",
              "      <th>8</th>\n",
              "      <td>wpt_name</td>\n",
              "      <td>0</td>\n",
              "      <td>object</td>\n",
              "      <td>0</td>\n",
              "      <td>37400</td>\n",
              "    </tr>\n",
              "    <tr>\n",
              "      <th>9</th>\n",
              "      <td>num_private</td>\n",
              "      <td>0</td>\n",
              "      <td>int64</td>\n",
              "      <td>58643</td>\n",
              "      <td>65</td>\n",
              "    </tr>\n",
              "    <tr>\n",
              "      <th>10</th>\n",
              "      <td>basin</td>\n",
              "      <td>0</td>\n",
              "      <td>object</td>\n",
              "      <td>0</td>\n",
              "      <td>9</td>\n",
              "    </tr>\n",
              "    <tr>\n",
              "      <th>11</th>\n",
              "      <td>subvillage</td>\n",
              "      <td>371</td>\n",
              "      <td>object</td>\n",
              "      <td>0</td>\n",
              "      <td>19287</td>\n",
              "    </tr>\n",
              "    <tr>\n",
              "      <th>12</th>\n",
              "      <td>region</td>\n",
              "      <td>0</td>\n",
              "      <td>object</td>\n",
              "      <td>0</td>\n",
              "      <td>21</td>\n",
              "    </tr>\n",
              "    <tr>\n",
              "      <th>13</th>\n",
              "      <td>region_code</td>\n",
              "      <td>0</td>\n",
              "      <td>int64</td>\n",
              "      <td>0</td>\n",
              "      <td>27</td>\n",
              "    </tr>\n",
              "    <tr>\n",
              "      <th>14</th>\n",
              "      <td>district_code</td>\n",
              "      <td>0</td>\n",
              "      <td>int64</td>\n",
              "      <td>23</td>\n",
              "      <td>20</td>\n",
              "    </tr>\n",
              "    <tr>\n",
              "      <th>15</th>\n",
              "      <td>lga</td>\n",
              "      <td>0</td>\n",
              "      <td>object</td>\n",
              "      <td>0</td>\n",
              "      <td>125</td>\n",
              "    </tr>\n",
              "    <tr>\n",
              "      <th>16</th>\n",
              "      <td>ward</td>\n",
              "      <td>0</td>\n",
              "      <td>object</td>\n",
              "      <td>0</td>\n",
              "      <td>2092</td>\n",
              "    </tr>\n",
              "    <tr>\n",
              "      <th>17</th>\n",
              "      <td>population</td>\n",
              "      <td>0</td>\n",
              "      <td>int64</td>\n",
              "      <td>21381</td>\n",
              "      <td>1049</td>\n",
              "    </tr>\n",
              "    <tr>\n",
              "      <th>18</th>\n",
              "      <td>public_meeting</td>\n",
              "      <td>3334</td>\n",
              "      <td>object</td>\n",
              "      <td>5055</td>\n",
              "      <td>2</td>\n",
              "    </tr>\n",
              "    <tr>\n",
              "      <th>19</th>\n",
              "      <td>recorded_by</td>\n",
              "      <td>0</td>\n",
              "      <td>object</td>\n",
              "      <td>0</td>\n",
              "      <td>1</td>\n",
              "    </tr>\n",
              "    <tr>\n",
              "      <th>20</th>\n",
              "      <td>scheme_management</td>\n",
              "      <td>3877</td>\n",
              "      <td>object</td>\n",
              "      <td>0</td>\n",
              "      <td>12</td>\n",
              "    </tr>\n",
              "    <tr>\n",
              "      <th>21</th>\n",
              "      <td>scheme_name</td>\n",
              "      <td>28166</td>\n",
              "      <td>object</td>\n",
              "      <td>0</td>\n",
              "      <td>2696</td>\n",
              "    </tr>\n",
              "    <tr>\n",
              "      <th>22</th>\n",
              "      <td>permit</td>\n",
              "      <td>3056</td>\n",
              "      <td>object</td>\n",
              "      <td>17492</td>\n",
              "      <td>2</td>\n",
              "    </tr>\n",
              "    <tr>\n",
              "      <th>23</th>\n",
              "      <td>construction_year</td>\n",
              "      <td>0</td>\n",
              "      <td>int64</td>\n",
              "      <td>20709</td>\n",
              "      <td>55</td>\n",
              "    </tr>\n",
              "    <tr>\n",
              "      <th>24</th>\n",
              "      <td>extraction_type</td>\n",
              "      <td>0</td>\n",
              "      <td>object</td>\n",
              "      <td>0</td>\n",
              "      <td>18</td>\n",
              "    </tr>\n",
              "    <tr>\n",
              "      <th>25</th>\n",
              "      <td>extraction_type_group</td>\n",
              "      <td>0</td>\n",
              "      <td>object</td>\n",
              "      <td>0</td>\n",
              "      <td>13</td>\n",
              "    </tr>\n",
              "    <tr>\n",
              "      <th>26</th>\n",
              "      <td>extraction_type_class</td>\n",
              "      <td>0</td>\n",
              "      <td>object</td>\n",
              "      <td>0</td>\n",
              "      <td>7</td>\n",
              "    </tr>\n",
              "    <tr>\n",
              "      <th>27</th>\n",
              "      <td>management</td>\n",
              "      <td>0</td>\n",
              "      <td>object</td>\n",
              "      <td>0</td>\n",
              "      <td>12</td>\n",
              "    </tr>\n",
              "    <tr>\n",
              "      <th>28</th>\n",
              "      <td>management_group</td>\n",
              "      <td>0</td>\n",
              "      <td>object</td>\n",
              "      <td>0</td>\n",
              "      <td>5</td>\n",
              "    </tr>\n",
              "    <tr>\n",
              "      <th>29</th>\n",
              "      <td>payment</td>\n",
              "      <td>0</td>\n",
              "      <td>object</td>\n",
              "      <td>0</td>\n",
              "      <td>7</td>\n",
              "    </tr>\n",
              "    <tr>\n",
              "      <th>30</th>\n",
              "      <td>payment_type</td>\n",
              "      <td>0</td>\n",
              "      <td>object</td>\n",
              "      <td>0</td>\n",
              "      <td>7</td>\n",
              "    </tr>\n",
              "    <tr>\n",
              "      <th>31</th>\n",
              "      <td>water_quality</td>\n",
              "      <td>0</td>\n",
              "      <td>object</td>\n",
              "      <td>0</td>\n",
              "      <td>8</td>\n",
              "    </tr>\n",
              "    <tr>\n",
              "      <th>32</th>\n",
              "      <td>quality_group</td>\n",
              "      <td>0</td>\n",
              "      <td>object</td>\n",
              "      <td>0</td>\n",
              "      <td>6</td>\n",
              "    </tr>\n",
              "    <tr>\n",
              "      <th>33</th>\n",
              "      <td>quantity</td>\n",
              "      <td>0</td>\n",
              "      <td>object</td>\n",
              "      <td>0</td>\n",
              "      <td>5</td>\n",
              "    </tr>\n",
              "    <tr>\n",
              "      <th>34</th>\n",
              "      <td>quantity_group</td>\n",
              "      <td>0</td>\n",
              "      <td>object</td>\n",
              "      <td>0</td>\n",
              "      <td>5</td>\n",
              "    </tr>\n",
              "    <tr>\n",
              "      <th>35</th>\n",
              "      <td>source</td>\n",
              "      <td>0</td>\n",
              "      <td>object</td>\n",
              "      <td>0</td>\n",
              "      <td>10</td>\n",
              "    </tr>\n",
              "    <tr>\n",
              "      <th>36</th>\n",
              "      <td>source_type</td>\n",
              "      <td>0</td>\n",
              "      <td>object</td>\n",
              "      <td>0</td>\n",
              "      <td>7</td>\n",
              "    </tr>\n",
              "    <tr>\n",
              "      <th>37</th>\n",
              "      <td>source_class</td>\n",
              "      <td>0</td>\n",
              "      <td>object</td>\n",
              "      <td>0</td>\n",
              "      <td>3</td>\n",
              "    </tr>\n",
              "    <tr>\n",
              "      <th>38</th>\n",
              "      <td>waterpoint_type</td>\n",
              "      <td>0</td>\n",
              "      <td>object</td>\n",
              "      <td>0</td>\n",
              "      <td>7</td>\n",
              "    </tr>\n",
              "    <tr>\n",
              "      <th>39</th>\n",
              "      <td>waterpoint_type_group</td>\n",
              "      <td>0</td>\n",
              "      <td>object</td>\n",
              "      <td>0</td>\n",
              "      <td>6</td>\n",
              "    </tr>\n",
              "    <tr>\n",
              "      <th>40</th>\n",
              "      <td>status_group</td>\n",
              "      <td>0</td>\n",
              "      <td>object</td>\n",
              "      <td>0</td>\n",
              "      <td>3</td>\n",
              "    </tr>\n",
              "  </tbody>\n",
              "</table>\n",
              "</div>"
            ]
          },
          "metadata": {},
          "execution_count": 104
        }
      ],
      "metadata": {
        "colab": {
          "base_uri": "https://localhost:8080/",
          "height": 1000
        },
        "id": "s6FUCovx2zDX",
        "outputId": "97666d7e-dfec-4905-a9d1-3eecf3fbc208"
      }
    },
    {
      "cell_type": "markdown",
      "source": [
        "# Handling Label Imbalance"
      ],
      "metadata": {
        "id": "dlw0tR0eD2xm"
      }
    },
    {
      "cell_type": "code",
      "execution_count": 105,
      "source": [
        "merged_PIT_data_df.status_group.value_counts()"
      ],
      "outputs": [
        {
          "output_type": "execute_result",
          "data": {
            "text/plain": [
              "functional                 32259\n",
              "non functional             22824\n",
              "functional needs repair     4317\n",
              "Name: status_group, dtype: int64"
            ]
          },
          "metadata": {},
          "execution_count": 105
        }
      ],
      "metadata": {
        "colab": {
          "base_uri": "https://localhost:8080/"
        },
        "id": "YnLF0HUcEUgt",
        "outputId": "4ec4cd3e-c231-49c4-ffcd-225bdfd9f173"
      }
    },
    {
      "cell_type": "code",
      "execution_count": 106,
      "source": [
        "grouping = merged_PIT_data_df.groupby('status_group',group_keys=False)\n",
        "merged_PIT_data_df = grouping.apply(lambda x: x.sample(grouping.size().min()).reset_index(drop=True))\n",
        "merged_PIT_data_df.reset_index(drop=True, inplace=True)"
      ],
      "outputs": [],
      "metadata": {
        "id": "doxGPNkyFJ6g"
      }
    },
    {
      "cell_type": "markdown",
      "source": [
        "# Preprocessing"
      ],
      "metadata": {
        "id": "IOL1Xw0fE1sh"
      }
    },
    {
      "cell_type": "code",
      "execution_count": 107,
      "source": [
        "from sklearn.preprocessing import LabelEncoder\n",
        "from sklearn.preprocessing import MinMaxScaler\n",
        "str_encoder = LabelEncoder()\n",
        "scaler = MinMaxScaler()"
      ],
      "outputs": [],
      "metadata": {
        "id": "i0gS-RhBJdSy"
      }
    },
    {
      "cell_type": "code",
      "execution_count": 108,
      "source": [
        "def preprocess(df):\n",
        "  df['gps_height'] = df['gps_height'].replace(0,np.nan).fillna(df.groupby('region')['gps_height'].transform('mean'))\n",
        "  df['longitude'] = df['longitude'].replace(0,np.nan).fillna(df.groupby('region')['longitude'].transform('median'))\n",
        "  df['latitude'] = df['latitude'].replace(0,np.nan).fillna(df.groupby('region')['latitude'].transform('median'))\n",
        "  df['population'] = df['population'].replace(0,np.nan).fillna(df.groupby('region')['population'].transform('mean'))\n",
        "  df['construction_year'] = df['construction_year'].replace(0,np.nan)\n",
        "  df['construction_year'] = df['construction_year'].fillna(df.groupby('scheme_name')['construction_year'].transform('mean'))\n",
        "  df['construction_year'] = df['construction_year'].fillna(df.groupby('installer')['construction_year'].transform('mean'))\n",
        "  df['construction_year'] = df['construction_year'].fillna(df.groupby('funder')['construction_year'].transform('mean'))\n",
        "  df['construction_year'] = df['construction_year'].fillna(df.groupby('scheme_management')['construction_year'].transform('mean'))\n",
        "  df['construction_year'] = df['construction_year'].fillna(df.groupby('management')['construction_year'].transform('mean'))\n",
        "  df['duration'] = (2021 - df['construction_year'])\n",
        "  df['funder'] = df['funder'].fillna('Unknown')\n",
        "  df['installer'] = df['installer'].fillna('Unknown')\n",
        "  df['scheme_management'] = df['scheme_management'].fillna('Unknown')\n",
        "  df['permit'] = df['permit'].fillna('Unknown')\n",
        "  df['permit'] = df['permit'].replace({True:1,False:0,'Unknown':0.5})\n",
        "  selected_columns = ['id','gps_height','longitude','latitude','population','basin','region','duration','funder','installer','waterpoint_type','source','quantity','water_quality','payment','management_group','extraction_type_class']\n",
        "  if('status_group' in df.columns):\n",
        "    selected_columns.append('status_group')\n",
        "  return df[selected_columns]"
      ],
      "outputs": [],
      "metadata": {
        "id": "FVgDDlnRVceJ"
      }
    },
    {
      "cell_type": "code",
      "execution_count": 109,
      "source": [
        "def encode_frame(df):\n",
        "  encodables = ['basin','region','duration','funder','installer','waterpoint_type','source','quantity','water_quality','payment','management_group','extraction_type_class']\n",
        "  scalables = ['gps_height','longitude','latitude','population']\n",
        "  for en in encodables:\n",
        "    df[en] = str_encoder.fit_transform(df[en])\n",
        "  if('status_group' in df.columns):\n",
        "    df['status_group'] = df['status_group'].replace({\"functional\":2, \"non functional\":0, \"functional needs repair\":1})\n",
        "  df[scalables] = scaler.fit_transform(df[scalables])\n",
        "  return df"
      ],
      "outputs": [],
      "metadata": {
        "id": "R0rXpP4HJnKF"
      }
    },
    {
      "cell_type": "code",
      "execution_count": 110,
      "source": [
        "cleaned_data_df = preprocess(merged_PIT_data_df)\n",
        "cleaned_test_df = preprocess(PIT_test_df)\n",
        "# encoded_data_df = encode_frame(cleaned_data_df)\n",
        "# encoded_test_df = encode_frame(cleaned_test_df)"
      ],
      "outputs": [],
      "metadata": {
        "id": "-IuoUmTqI__5"
      }
    },
    {
      "cell_type": "markdown",
      "source": [
        "# Training"
      ],
      "metadata": {
        "id": "WoWeowcI72B_"
      }
    },
    {
      "cell_type": "code",
      "execution_count": 111,
      "source": [
        "from sklearn.ensemble import RandomForestClassifier\n",
        "from sklearn.metrics import accuracy_score\n",
        "\n",
        "model = RandomForestClassifier(n_estimators=1000, max_depth=30, random_state=1)"
      ],
      "outputs": [],
      "metadata": {
        "id": "wFozksY2cd-A"
      }
    },
    {
      "cell_type": "code",
      "execution_count": null,
      "source": [
        "for i in range(1):\n",
        "  enc_copy_df = encoded_data_df.copy()\n",
        "  validation_df = enc_copy_df.sample(frac = 0.2)\n",
        "  train_df = enc_copy_df.drop(validation_df.index)\n",
        "  test_df = encoded_test_df\n",
        "\n",
        "  features = train_df.columns.to_list()\n",
        "  features.remove('status_group')\n",
        "  features.remove('id')\n",
        "  train_y = train_df['status_group']\n",
        "  train_x = train_df[features]\n",
        "  val_y = validation_df['status_group']\n",
        "  val_x = validation_df[features]\n",
        "\n",
        "  model.fit(train_x, train_y)\n",
        "  accuracy = accuracy_score(model.predict(val_x), val_y)\n",
        "  print(f'epoch:{i+1} finshed ---> accuracy:{accuracy}')"
      ],
      "outputs": [],
      "metadata": {
        "id": "_AsvXez2La90",
        "colab": {
          "base_uri": "https://localhost:8080/"
        },
        "outputId": "d61930ff-2c50-4fd1-b414-b5b33c0e0341"
      }
    },
    {
      "cell_type": "code",
      "execution_count": 113,
      "source": [
        "prediction = model.predict(test_df[features])\n",
        "\n",
        "submission_df = pd.DataFrame({\n",
        "\t\t\t\"id\": test_df[\"id\"],\n",
        "\t\t\t\"status_group\": prediction\n",
        "\t\t})\n",
        "submission_df['status_group'] = submission_df['status_group'].replace({2:\"functional\", 0:\"non functional\", 1:\"functional needs repair\"})\n",
        "submission_df.to_csv(\"PIT_submission.csv\", index = False)"
      ],
      "outputs": [],
      "metadata": {
        "id": "s1mDaoje6dLB"
      }
    },
    {
      "cell_type": "code",
      "execution_count": null,
      "source": [
        "importances = list(model.feature_importances_)\n",
        "feature_importances = [(feature, round(importance, 2)) for feature, importance in zip(features, importances)]\n",
        "feature_importances = sorted(feature_importances, key = lambda x: x[1], reverse = True)\n",
        "feature_importances"
      ],
      "outputs": [],
      "metadata": {
        "colab": {
          "base_uri": "https://localhost:8080/"
        },
        "id": "JjFNSap3i5Ty",
        "outputId": "ba75ce8b-db1b-4756-d6dd-a66623929740"
      }
    }
  ]
}